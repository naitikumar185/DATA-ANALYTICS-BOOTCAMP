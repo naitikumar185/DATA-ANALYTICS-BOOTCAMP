{
 "cells": [
  {
   "cell_type": "code",
   "execution_count": 13,
   "id": "bae4b3b3-2fd2-4748-85ed-dfc4620936e0",
   "metadata": {},
   "outputs": [],
   "source": [
    "import sqlite3"
   ]
  },
  {
   "cell_type": "code",
   "execution_count": 14,
   "id": "4d450754-aaaa-4adc-a379-a04ac7dddfe5",
   "metadata": {},
   "outputs": [],
   "source": [
    "def create_database():\n",
    "    conn = sqlite3.connect('bills.db')\n",
    "    c = conn.cursor()\n",
    "    c.execute('''\n",
    "        CREATE TABLE IF NOT EXISTS bills (\n",
    "            bill_id INTEGER PRIMARY KEY AUTOINCREMENT,\n",
    "            customer_name TEXT NOT NULL,\n",
    "            amount REAL NOT NULL,\n",
    "            date TEXT NOT NULL\n",
    "        )\n",
    "    ''')\n",
    "    conn.commit()\n",
    "    conn.close()"
   ]
  },
  {
   "cell_type": "code",
   "execution_count": 15,
   "id": "e8052a2a-d587-4a7c-bea7-15890cf051d2",
   "metadata": {},
   "outputs": [],
   "source": [
    "def add_bill(customer_name, amount, date):\n",
    "    conn = sqlite3.connect('bills.db')\n",
    "    c = conn.cursor()\n",
    "    c.execute(\"INSERT INTO bills (customer_name, amount, date) VALUES (?, ?, ?)\",\n",
    "              (customer_name, amount, date))\n",
    "    conn.commit()\n",
    "    conn.close()\n",
    "    print(\"Bill added successfully!\")"
   ]
  },
  {
   "cell_type": "code",
   "execution_count": 16,
   "id": "a13956ff-191f-4976-8760-a8c30ab326f1",
   "metadata": {},
   "outputs": [],
   "source": [
    "def view_bills():\n",
    "    conn = sqlite3.connect('bills.db')\n",
    "    c = conn.cursor()\n",
    "    c.execute(\"SELECT * FROM bills\")\n",
    "    rows = c.fetchall()\n",
    "    conn.close()\n",
    "\n",
    "    print(\"\\nAll Bills\")\n",
    "    if rows:\n",
    "        for row in rows:\n",
    "            print(f\"ID: {row[0]}, Name: {row[1]}, Amount: {row[2]}, Date: {row[3]}\")\n",
    "    else:\n",
    "        print(\"No bills found.\")\n"
   ]
  },
  {
   "cell_type": "code",
   "execution_count": 17,
   "id": "fef76958-45fc-4683-8fc7-fca3ea398e83",
   "metadata": {},
   "outputs": [],
   "source": [
    "def search_bill(bill_id):\n",
    "    conn = sqlite3.connect('bills.db')\n",
    "    c = conn.cursor()\n",
    "    c.execute(\"SELECT * FROM bills WHERE bill_id=?\", (bill_id,))\n",
    "    row = c.fetchone()\n",
    "    conn.close()\n",
    "\n",
    "    if row:\n",
    "        print(f\"ID: {row[0]}, Name: {row[1]}, Amount: {row[2]}, Date: {row[3]}\")\n",
    "    else:\n",
    "        print(\"Bill not found.\")\n"
   ]
  },
  {
   "cell_type": "code",
   "execution_count": 18,
   "id": "f8ca202a-d305-4cd8-9728-7b8bfc89aabb",
   "metadata": {},
   "outputs": [],
   "source": [
    "def update_bill(bill_id, customer_name, amount, date):\n",
    "    conn = sqlite3.connect('bills.db')\n",
    "    c = conn.cursor()\n",
    "    c.execute(\"UPDATE bills SET customer_name=?, amount=?, date=? WHERE bill_id=?\",\n",
    "              (customer_name, amount, date, bill_id))\n",
    "    conn.commit()\n",
    "    conn.close()\n",
    "    print(\"Bill updated successfully!\")"
   ]
  },
  {
   "cell_type": "code",
   "execution_count": 19,
   "id": "15daba06-8cb7-4f25-83dc-74708d851581",
   "metadata": {},
   "outputs": [],
   "source": [
    "def delete_bill(bill_id):\n",
    "    conn = sqlite3.connect('bills.db')\n",
    "    c = conn.cursor()\n",
    "    c.execute(\"DELETE FROM bills WHERE bill_id=?\", (bill_id,))\n",
    "    conn.commit()\n",
    "    conn.close()\n",
    "    print(\"Bill deleted successfully!\")\n"
   ]
  },
  {
   "cell_type": "code",
   "execution_count": 21,
   "id": "ac542105-6be7-4249-aab6-75ec03dfa986",
   "metadata": {},
   "outputs": [],
   "source": [
    "def menu():\n",
    "    create_database()\n",
    "    while True:\n",
    "        print(\"\\n--- Bill Management System ---\")\n",
    "        print(\"1. Add Bill\")\n",
    "        print(\"2. View Bills\")\n",
    "        print(\"3. Search Bill\")\n",
    "        print(\"4. Update Bill\")\n",
    "        print(\"5. Delete Bill\")\n",
    "        print(\"6. Exit\")\n",
    "\n",
    "        choice = input(\"Enter choice: \")\n",
    "\n",
    "        if choice == '1':\n",
    "            name = input(\"Enter Customer Name: \")\n",
    "            amount = float(input(\"Enter Amount: \"))\n",
    "            date = input(\"Enter Date (YYYY-MM-DD): \")\n",
    "            add_bill(name, amount, date)\n",
    "\n",
    "        elif choice == '2':\n",
    "            view_bills()\n",
    "\n",
    "        elif choice == '3':\n",
    "            bill_id = int(input(\"Enter Bill ID: \"))\n",
    "            search_bill(bill_id)\n",
    "\n",
    "        elif choice == '4':\n",
    "            bill_id = int(input(\"Enter Bill ID: \"))\n",
    "            name = input(\"Enter New Customer Name: \")\n",
    "            amount = float(input(\"Enter New Amount: \"))\n",
    "            date = input(\"Enter New Date (YYYY-MM-DD): \")\n",
    "            update_bill(bill_id, name, amount, date)\n",
    "\n",
    "        elif choice == '5':\n",
    "            bill_id = int(input(\"Enter Bill ID: \"))\n",
    "            delete_bill(bill_id)\n",
    "\n",
    "        elif choice == '6':\n",
    "            print(\"Exiting program...\")\n",
    "            break\n",
    "\n",
    "        else:\n",
    "            print(\"Invalid choice! Try again.\")\n"
   ]
  },
  {
   "cell_type": "code",
   "execution_count": 22,
   "id": "c1e98e59-03b1-4087-b0c0-706a9635a330",
   "metadata": {},
   "outputs": [
    {
     "name": "stdout",
     "output_type": "stream",
     "text": [
      "\n",
      "--- Bill Management System ---\n",
      "1. Add Bill\n",
      "2. View Bills\n",
      "3. Search Bill\n",
      "4. Update Bill\n",
      "5. Delete Bill\n",
      "6. Exit\n"
     ]
    },
    {
     "name": "stdin",
     "output_type": "stream",
     "text": [
      "Enter choice:  1\n",
      "Enter Customer Name:  naitik\n",
      "Enter Amount:  2000\n",
      "Enter Date (YYYY-MM-DD):  2007-02-21\n"
     ]
    },
    {
     "name": "stdout",
     "output_type": "stream",
     "text": [
      "Bill added successfully!\n",
      "\n",
      "--- Bill Management System ---\n",
      "1. Add Bill\n",
      "2. View Bills\n",
      "3. Search Bill\n",
      "4. Update Bill\n",
      "5. Delete Bill\n",
      "6. Exit\n"
     ]
    },
    {
     "name": "stdin",
     "output_type": "stream",
     "text": [
      "Enter choice:  2\n"
     ]
    },
    {
     "name": "stdout",
     "output_type": "stream",
     "text": [
      "\n",
      "--- All Bills ---\n",
      "ID: 1, Name: naitik, Amount: 2000.0, Date: 2007-02-21\n",
      "\n",
      "--- Bill Management System ---\n",
      "1. Add Bill\n",
      "2. View Bills\n",
      "3. Search Bill\n",
      "4. Update Bill\n",
      "5. Delete Bill\n",
      "6. Exit\n"
     ]
    },
    {
     "name": "stdin",
     "output_type": "stream",
     "text": [
      "Enter choice:  3\n",
      "Enter Bill ID:  1\n"
     ]
    },
    {
     "name": "stdout",
     "output_type": "stream",
     "text": [
      "ID: 1, Name: naitik, Amount: 2000.0, Date: 2007-02-21\n",
      "\n",
      "--- Bill Management System ---\n",
      "1. Add Bill\n",
      "2. View Bills\n",
      "3. Search Bill\n",
      "4. Update Bill\n",
      "5. Delete Bill\n",
      "6. Exit\n"
     ]
    },
    {
     "name": "stdin",
     "output_type": "stream",
     "text": [
      "Enter choice:  5\n",
      "Enter Bill ID:  1\n"
     ]
    },
    {
     "name": "stdout",
     "output_type": "stream",
     "text": [
      "Bill deleted successfully!\n",
      "\n",
      "--- Bill Management System ---\n",
      "1. Add Bill\n",
      "2. View Bills\n",
      "3. Search Bill\n",
      "4. Update Bill\n",
      "5. Delete Bill\n",
      "6. Exit\n"
     ]
    },
    {
     "name": "stdin",
     "output_type": "stream",
     "text": [
      "Enter choice:  6\n"
     ]
    },
    {
     "name": "stdout",
     "output_type": "stream",
     "text": [
      "Exiting program...\n"
     ]
    }
   ],
   "source": [
    "menu()\n",
    "conn.close()"
   ]
  },
  {
   "cell_type": "code",
   "execution_count": null,
   "id": "6b6436c2-37f6-46db-b59b-014b81b8572d",
   "metadata": {},
   "outputs": [],
   "source": []
  }
 ],
 "metadata": {
  "kernelspec": {
   "display_name": "Python [conda env:base] *",
   "language": "python",
   "name": "conda-base-py"
  },
  "language_info": {
   "codemirror_mode": {
    "name": "ipython",
    "version": 3
   },
   "file_extension": ".py",
   "mimetype": "text/x-python",
   "name": "python",
   "nbconvert_exporter": "python",
   "pygments_lexer": "ipython3",
   "version": "3.13.5"
  }
 },
 "nbformat": 4,
 "nbformat_minor": 5
}
